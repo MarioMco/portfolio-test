{
 "cells": [
  {
   "cell_type": "code",
   "execution_count": 2,
   "metadata": {},
   "outputs": [
    {
     "name": "stdout",
     "output_type": "stream",
     "text": [
      "DB connection established.\n"
     ]
    }
   ],
   "source": [
    "import os\n",
    "import sys\n",
    "import pandas as pd\n",
    "from sqlalchemy import create_engine\n",
    "from sqlalchemy.exc import SQLAlchemyError\n",
    "from dotenv import load_dotenv\n",
    "\n",
    "\n",
    "# DB connection\n",
    "try:\n",
    "    load_dotenv()\n",
    "    SQLUID = os.getenv(\"SQLUID\")\n",
    "    SQLPASSWORD = os.getenv(\"SQLPASSWORD\")\n",
    "    DRIVER = \"ODBC Driver 18 for SQL Server\"\n",
    "    SQLSERVER = \"localhost\"\n",
    "    SQLDB = \"ContosoRetailDW\"\n",
    "    engine_stmt = f\"mssql+pyodbc://{SQLUID}:{SQLPASSWORD}@{SQLSERVER}/{SQLDB}?TrustServerCertificate=yes&driver={DRIVER}\"\n",
    "    engine = create_engine(engine_stmt)\n",
    "    print(\"DB connection established.\")\n",
    "except SQLAlchemyError as e:\n",
    "    print(\"Error: DB connection failed!\", e.__cause__, sep=\"\\n\")\n",
    "    sys.exit()"
   ]
  },
  {
   "cell_type": "code",
   "execution_count": 21,
   "metadata": {},
   "outputs": [],
   "source": [
    "sql_query = \"SELECT * FROM FactSales\"\n",
    "chunksize = 10000\n",
    "connection = engine.connect().execution_options(stream_results=True, max_row_buffer=chunksize)\n",
    "df = pd.read_sql(sql_query, connection, chunksize=chunksize)\n",
    "categories = [\"ProductKey\", \"SalesAmount\"]\n",
    "output = pd.DataFrame()\n",
    "for chunk in df:\n",
    "    df_cat = chunk[categories]\n",
    "    summary = df_cat.groupby([\"ProductKey\"])[\"SalesAmount\"].sum().reset_index()\n",
    "    output = pd.concat([output, summary], ignore_index=True)"
   ]
  },
  {
   "cell_type": "code",
   "execution_count": 23,
   "metadata": {},
   "outputs": [
    {
     "data": {
      "text/html": [
       "<div>\n",
       "<style scoped>\n",
       "    .dataframe tbody tr th:only-of-type {\n",
       "        vertical-align: middle;\n",
       "    }\n",
       "\n",
       "    .dataframe tbody tr th {\n",
       "        vertical-align: top;\n",
       "    }\n",
       "\n",
       "    .dataframe thead th {\n",
       "        text-align: right;\n",
       "    }\n",
       "</style>\n",
       "<table border=\"1\" class=\"dataframe\">\n",
       "  <thead>\n",
       "    <tr style=\"text-align: right;\">\n",
       "      <th></th>\n",
       "      <th>ProductKey</th>\n",
       "      <th>SalesAmount</th>\n",
       "    </tr>\n",
       "  </thead>\n",
       "  <tbody>\n",
       "    <tr>\n",
       "      <th>0</th>\n",
       "      <td>1</td>\n",
       "      <td>2.551357e+05</td>\n",
       "    </tr>\n",
       "    <tr>\n",
       "      <th>1</th>\n",
       "      <td>2</td>\n",
       "      <td>2.441620e+05</td>\n",
       "    </tr>\n",
       "    <tr>\n",
       "      <th>2</th>\n",
       "      <td>3</td>\n",
       "      <td>2.857652e+05</td>\n",
       "    </tr>\n",
       "    <tr>\n",
       "      <th>3</th>\n",
       "      <td>4</td>\n",
       "      <td>4.104208e+05</td>\n",
       "    </tr>\n",
       "    <tr>\n",
       "      <th>4</th>\n",
       "      <td>5</td>\n",
       "      <td>4.166276e+05</td>\n",
       "    </tr>\n",
       "    <tr>\n",
       "      <th>...</th>\n",
       "      <td>...</td>\n",
       "      <td>...</td>\n",
       "    </tr>\n",
       "    <tr>\n",
       "      <th>2511</th>\n",
       "      <td>2513</td>\n",
       "      <td>8.157691e+06</td>\n",
       "    </tr>\n",
       "    <tr>\n",
       "      <th>2512</th>\n",
       "      <td>2514</td>\n",
       "      <td>7.974490e+06</td>\n",
       "    </tr>\n",
       "    <tr>\n",
       "      <th>2513</th>\n",
       "      <td>2515</td>\n",
       "      <td>1.304813e+06</td>\n",
       "    </tr>\n",
       "    <tr>\n",
       "      <th>2514</th>\n",
       "      <td>2516</td>\n",
       "      <td>1.391502e+06</td>\n",
       "    </tr>\n",
       "    <tr>\n",
       "      <th>2515</th>\n",
       "      <td>2517</td>\n",
       "      <td>1.392031e+06</td>\n",
       "    </tr>\n",
       "  </tbody>\n",
       "</table>\n",
       "<p>2516 rows × 2 columns</p>\n",
       "</div>"
      ],
      "text/plain": [
       "      ProductKey   SalesAmount\n",
       "0              1  2.551357e+05\n",
       "1              2  2.441620e+05\n",
       "2              3  2.857652e+05\n",
       "3              4  4.104208e+05\n",
       "4              5  4.166276e+05\n",
       "...          ...           ...\n",
       "2511        2513  8.157691e+06\n",
       "2512        2514  7.974490e+06\n",
       "2513        2515  1.304813e+06\n",
       "2514        2516  1.391502e+06\n",
       "2515        2517  1.392031e+06\n",
       "\n",
       "[2516 rows x 2 columns]"
      ]
     },
     "execution_count": 23,
     "metadata": {},
     "output_type": "execute_result"
    }
   ],
   "source": [
    "total_summary = output.groupby([\"ProductKey\"])[\"SalesAmount\"].sum().reset_index()\n",
    "total_summary"
   ]
  }
 ],
 "metadata": {
  "kernelspec": {
   "display_name": "Python 3",
   "language": "python",
   "name": "python3"
  },
  "language_info": {
   "codemirror_mode": {
    "name": "ipython",
    "version": 3
   },
   "file_extension": ".py",
   "mimetype": "text/x-python",
   "name": "python",
   "nbconvert_exporter": "python",
   "pygments_lexer": "ipython3",
   "version": "3.10.0"
  },
  "orig_nbformat": 4,
  "vscode": {
   "interpreter": {
    "hash": "635d677de2b5531dc8543bf35be6c52b40c80af04d98bb4f6f1a4f2c61618884"
   }
  }
 },
 "nbformat": 4,
 "nbformat_minor": 2
}
