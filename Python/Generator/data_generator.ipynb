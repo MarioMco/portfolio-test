{
 "cells": [
  {
   "cell_type": "code",
   "execution_count": 4,
   "metadata": {},
   "outputs": [],
   "source": [
    "import requests\n",
    "import pandas as pd"
   ]
  },
  {
   "cell_type": "code",
   "execution_count": 5,
   "metadata": {},
   "outputs": [],
   "source": [
    "def get_data(api_url: str, page: int, per_page: int) -> list:\n",
    "    response = requests.get(api_url, params = {\"page\": page, \"per_page\": per_page})\n",
    "    data = response.json()[\"data\"]\n",
    "    total_pages = response.json()[\"total_pages\"]\n",
    "    \n",
    "    yield data\n",
    "    \n",
    "    while page < total_pages:  \n",
    "        page +=1\n",
    "        response = requests.get(api_url, params = {\"page\": page, \"per_page\": per_page})    \n",
    "        data = response.json()[\"data\"]\n",
    "        \n",
    "        yield data"
   ]
  },
  {
   "cell_type": "code",
   "execution_count": 6,
   "metadata": {},
   "outputs": [
    {
     "data": {
      "text/html": [
       "<div>\n",
       "<style scoped>\n",
       "    .dataframe tbody tr th:only-of-type {\n",
       "        vertical-align: middle;\n",
       "    }\n",
       "\n",
       "    .dataframe tbody tr th {\n",
       "        vertical-align: top;\n",
       "    }\n",
       "\n",
       "    .dataframe thead th {\n",
       "        text-align: right;\n",
       "    }\n",
       "</style>\n",
       "<table border=\"1\" class=\"dataframe\">\n",
       "  <thead>\n",
       "    <tr style=\"text-align: right;\">\n",
       "      <th></th>\n",
       "      <th>id</th>\n",
       "      <th>email</th>\n",
       "      <th>first_name</th>\n",
       "      <th>last_name</th>\n",
       "      <th>avatar</th>\n",
       "    </tr>\n",
       "  </thead>\n",
       "  <tbody>\n",
       "    <tr>\n",
       "      <th>0</th>\n",
       "      <td>1</td>\n",
       "      <td>george.bluth@reqres.in</td>\n",
       "      <td>George</td>\n",
       "      <td>Bluth</td>\n",
       "      <td>https://reqres.in/img/faces/1-image.jpg</td>\n",
       "    </tr>\n",
       "    <tr>\n",
       "      <th>1</th>\n",
       "      <td>2</td>\n",
       "      <td>janet.weaver@reqres.in</td>\n",
       "      <td>Janet</td>\n",
       "      <td>Weaver</td>\n",
       "      <td>https://reqres.in/img/faces/2-image.jpg</td>\n",
       "    </tr>\n",
       "    <tr>\n",
       "      <th>2</th>\n",
       "      <td>3</td>\n",
       "      <td>emma.wong@reqres.in</td>\n",
       "      <td>Emma</td>\n",
       "      <td>Wong</td>\n",
       "      <td>https://reqres.in/img/faces/3-image.jpg</td>\n",
       "    </tr>\n",
       "    <tr>\n",
       "      <th>3</th>\n",
       "      <td>4</td>\n",
       "      <td>eve.holt@reqres.in</td>\n",
       "      <td>Eve</td>\n",
       "      <td>Holt</td>\n",
       "      <td>https://reqres.in/img/faces/4-image.jpg</td>\n",
       "    </tr>\n",
       "    <tr>\n",
       "      <th>4</th>\n",
       "      <td>5</td>\n",
       "      <td>charles.morris@reqres.in</td>\n",
       "      <td>Charles</td>\n",
       "      <td>Morris</td>\n",
       "      <td>https://reqres.in/img/faces/5-image.jpg</td>\n",
       "    </tr>\n",
       "  </tbody>\n",
       "</table>\n",
       "</div>"
      ],
      "text/plain": [
       "   id                     email first_name last_name  \\\n",
       "0   1    george.bluth@reqres.in     George     Bluth   \n",
       "1   2    janet.weaver@reqres.in      Janet    Weaver   \n",
       "2   3       emma.wong@reqres.in       Emma      Wong   \n",
       "3   4        eve.holt@reqres.in        Eve      Holt   \n",
       "4   5  charles.morris@reqres.in    Charles    Morris   \n",
       "\n",
       "                                    avatar  \n",
       "0  https://reqres.in/img/faces/1-image.jpg  \n",
       "1  https://reqres.in/img/faces/2-image.jpg  \n",
       "2  https://reqres.in/img/faces/3-image.jpg  \n",
       "3  https://reqres.in/img/faces/4-image.jpg  \n",
       "4  https://reqres.in/img/faces/5-image.jpg  "
      ]
     },
     "execution_count": 6,
     "metadata": {},
     "output_type": "execute_result"
    }
   ],
   "source": [
    "data = []\n",
    "for d in get_data(\"https://reqres.in/api/users\",1, 2):\n",
    "    data.extend(d)\n",
    "df = pd.DataFrame(data)\n",
    "df.head()"
   ]
  }
 ],
 "metadata": {
  "kernelspec": {
   "display_name": "Python 3",
   "language": "python",
   "name": "python3"
  },
  "language_info": {
   "codemirror_mode": {
    "name": "ipython",
    "version": 3
   },
   "file_extension": ".py",
   "mimetype": "text/x-python",
   "name": "python",
   "nbconvert_exporter": "python",
   "pygments_lexer": "ipython3",
   "version": "3.10.0"
  },
  "orig_nbformat": 4,
  "vscode": {
   "interpreter": {
    "hash": "635d677de2b5531dc8543bf35be6c52b40c80af04d98bb4f6f1a4f2c61618884"
   }
  }
 },
 "nbformat": 4,
 "nbformat_minor": 2
}
